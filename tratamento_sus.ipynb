{
  "nbformat": 4,
  "nbformat_minor": 0,
  "metadata": {
    "colab": {
      "provenance": [],
      "authorship_tag": "ABX9TyOB6IX5+0LsIT9MJXMxW3Ro",
      "include_colab_link": true
    },
    "kernelspec": {
      "name": "python3",
      "display_name": "Python 3"
    },
    "language_info": {
      "name": "python"
    }
  },
  "cells": [
    {
      "cell_type": "markdown",
      "metadata": {
        "id": "view-in-github",
        "colab_type": "text"
      },
      "source": [
        "<a href=\"https://colab.research.google.com/github/jonatasbx/Curso-CDIA/blob/main/tratamento_sus.ipynb\" target=\"_parent\"><img src=\"https://colab.research.google.com/assets/colab-badge.svg\" alt=\"Open In Colab\"/></a>"
      ]
    },
    {
      "cell_type": "markdown",
      "source": [
        "## Notebook para análise do banco de dados do SIH-SUS.\n",
        "\n",
        "# Para a análise pretendida, a base foi filtrada com base na variável 'espec' = 2"
      ],
      "metadata": {
        "id": "b_BnOIx7I78C"
      }
    },
    {
      "cell_type": "code",
      "execution_count": null,
      "metadata": {
        "id": "sXCIewHc-XHB"
      },
      "outputs": [],
      "source": []
    }
  ]
}