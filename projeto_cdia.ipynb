import pandas as pd

base = pd.read_csv('base_filtrada.csv')
base.info()

