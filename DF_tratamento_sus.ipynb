{
  "nbformat": 4,
  "nbformat_minor": 0,
  "metadata": {
    "colab": {
      "provenance": [],
      "include_colab_link": true
    },
    "kernelspec": {
      "name": "python3",
      "display_name": "Python 3"
    },
    "language_info": {
      "name": "python"
    }
  },
  "cells": [
    {
      "cell_type": "markdown",
      "metadata": {
        "id": "view-in-github",
        "colab_type": "text"
      },
      "source": [
        "<a href=\"https://colab.research.google.com/github/jonatasbx/Curso-CDIA/blob/main/DF_tratamento_sus.ipynb\" target=\"_parent\"><img src=\"https://colab.research.google.com/assets/colab-badge.svg\" alt=\"Open In Colab\"/></a>"
      ]
    },
    {
      "cell_type": "markdown",
      "source": [
        "## Análise de custos de internação no DF\n",
        "\n",
        "### Para a análise pretendida, a base utilizada foi a do mês de abril de 2024 da UF DF\n",
        "\n",
        "### Problema: De acordo com o histórico de dados qual a previsão do custo de internação de uma pessoa no DF em abril 2024\n",
        "\n",
        "---\n",
        "\n"
      ],
      "metadata": {
        "id": "b_BnOIx7I78C"
      }
    },
    {
      "cell_type": "markdown",
      "source": [
        "#### Importação das bibliotecas\n",
        "\n",
        "---\n",
        "\n"
      ],
      "metadata": {
        "id": "dvRtrnDOJUjO"
      }
    },
    {
      "cell_type": "code",
      "execution_count": 68,
      "metadata": {
        "id": "sXCIewHc-XHB"
      },
      "outputs": [],
      "source": [
        "import pandas as pd\n",
        "import numpy as np\n",
        "import matplotlib.pyplot as plt\n",
        "import seaborn as sns"
      ]
    },
    {
      "cell_type": "markdown",
      "source": [
        "#### Importação da base\n",
        "\n",
        "---\n",
        "\n"
      ],
      "metadata": {
        "id": "V3xv9LYX0MwM"
      }
    },
    {
      "cell_type": "code",
      "source": [
        "pd.set_option('display.float_format', '{:.2f}'.format)\n",
        "df_sus = pd.read_csv('BancoDF.csv')"
      ],
      "metadata": {
        "id": "Vx0_Uuqghv0u"
      },
      "execution_count": 69,
      "outputs": []
    },
    {
      "cell_type": "code",
      "source": [
        "df_sus.head()"
      ],
      "metadata": {
        "colab": {
          "base_uri": "https://localhost:8080/",
          "height": 226
        },
        "id": "SIqOqqlYh7Ce",
        "outputId": "95819ff3-5f06-49d2-9907-950049c791ec"
      },
      "execution_count": 70,
      "outputs": [
        {
          "output_type": "execute_result",
          "data": {
            "text/plain": [
              "   ESPEC  IDENT  MUNIC_RES  SEXO  UTI_MES_IN  UTI_MES_AN  UTI_MES_AL  \\\n",
              "0      1      1     530010     1           0           0           0   \n",
              "1      1      1     521760     1           0           0           0   \n",
              "2      1      1     521760     1           0           0           0   \n",
              "3      1      1     521760     1           0           0           0   \n",
              "4      1      1     521760     1           0           0           0   \n",
              "\n",
              "   UTI_MES_TO  MARCA_UTI  DIAR_ACOM  QT_DIARIAS   PROC_REA  VAL_TOT  \\\n",
              "0          29         75          0           2  408050012 18773.07   \n",
              "1           7         75          0          16  407030123  5948.23   \n",
              "2           0          0          0           2  415010012  3735.12   \n",
              "3           6         75          0           2  415010012  6570.71   \n",
              "4           2         75          0           2  415010012  4807.07   \n",
              "\n",
              "  DIAG_PRINC  COBRANCA  NATUREZA  NAT_JUR  GESTAO  IDADE  DIAS_PERM  NACIONAL  \\\n",
              "0       R02         41         0     1023       2     59         30        10   \n",
              "1       D731        15         0     1023       2     32         23        10   \n",
              "2       K562        27         0     1023       2     50          1        10   \n",
              "3       K564        27         0     1023       2     50          7        10   \n",
              "4       K564        27         0     1023       2     50          3        10   \n",
              "\n",
              "   CAR_INT  GESTRISCO  COMPLEX  FINANC  RACA_COR  ETNIA  SEQUENCIA DIAGSEC1  \n",
              "0        2          1        2       6         3      0        505      NaN  \n",
              "1        2          1        2       6         2      0        506      NaN  \n",
              "2        2          1        2       6         3      0        507     K564  \n",
              "3        2          1        2       6         3      0        509     K650  \n",
              "4        2          1        2       6         3      0        510     K822  "
            ],
            "text/html": [
              "\n",
              "  <div id=\"df-51a85154-7d98-4a39-82fc-743926a37e79\" class=\"colab-df-container\">\n",
              "    <div>\n",
              "<style scoped>\n",
              "    .dataframe tbody tr th:only-of-type {\n",
              "        vertical-align: middle;\n",
              "    }\n",
              "\n",
              "    .dataframe tbody tr th {\n",
              "        vertical-align: top;\n",
              "    }\n",
              "\n",
              "    .dataframe thead th {\n",
              "        text-align: right;\n",
              "    }\n",
              "</style>\n",
              "<table border=\"1\" class=\"dataframe\">\n",
              "  <thead>\n",
              "    <tr style=\"text-align: right;\">\n",
              "      <th></th>\n",
              "      <th>ESPEC</th>\n",
              "      <th>IDENT</th>\n",
              "      <th>MUNIC_RES</th>\n",
              "      <th>SEXO</th>\n",
              "      <th>UTI_MES_IN</th>\n",
              "      <th>UTI_MES_AN</th>\n",
              "      <th>UTI_MES_AL</th>\n",
              "      <th>UTI_MES_TO</th>\n",
              "      <th>MARCA_UTI</th>\n",
              "      <th>DIAR_ACOM</th>\n",
              "      <th>QT_DIARIAS</th>\n",
              "      <th>PROC_REA</th>\n",
              "      <th>VAL_TOT</th>\n",
              "      <th>DIAG_PRINC</th>\n",
              "      <th>COBRANCA</th>\n",
              "      <th>NATUREZA</th>\n",
              "      <th>NAT_JUR</th>\n",
              "      <th>GESTAO</th>\n",
              "      <th>IDADE</th>\n",
              "      <th>DIAS_PERM</th>\n",
              "      <th>NACIONAL</th>\n",
              "      <th>CAR_INT</th>\n",
              "      <th>GESTRISCO</th>\n",
              "      <th>COMPLEX</th>\n",
              "      <th>FINANC</th>\n",
              "      <th>RACA_COR</th>\n",
              "      <th>ETNIA</th>\n",
              "      <th>SEQUENCIA</th>\n",
              "      <th>DIAGSEC1</th>\n",
              "    </tr>\n",
              "  </thead>\n",
              "  <tbody>\n",
              "    <tr>\n",
              "      <th>0</th>\n",
              "      <td>1</td>\n",
              "      <td>1</td>\n",
              "      <td>530010</td>\n",
              "      <td>1</td>\n",
              "      <td>0</td>\n",
              "      <td>0</td>\n",
              "      <td>0</td>\n",
              "      <td>29</td>\n",
              "      <td>75</td>\n",
              "      <td>0</td>\n",
              "      <td>2</td>\n",
              "      <td>408050012</td>\n",
              "      <td>18773.07</td>\n",
              "      <td>R02</td>\n",
              "      <td>41</td>\n",
              "      <td>0</td>\n",
              "      <td>1023</td>\n",
              "      <td>2</td>\n",
              "      <td>59</td>\n",
              "      <td>30</td>\n",
              "      <td>10</td>\n",
              "      <td>2</td>\n",
              "      <td>1</td>\n",
              "      <td>2</td>\n",
              "      <td>6</td>\n",
              "      <td>3</td>\n",
              "      <td>0</td>\n",
              "      <td>505</td>\n",
              "      <td>NaN</td>\n",
              "    </tr>\n",
              "    <tr>\n",
              "      <th>1</th>\n",
              "      <td>1</td>\n",
              "      <td>1</td>\n",
              "      <td>521760</td>\n",
              "      <td>1</td>\n",
              "      <td>0</td>\n",
              "      <td>0</td>\n",
              "      <td>0</td>\n",
              "      <td>7</td>\n",
              "      <td>75</td>\n",
              "      <td>0</td>\n",
              "      <td>16</td>\n",
              "      <td>407030123</td>\n",
              "      <td>5948.23</td>\n",
              "      <td>D731</td>\n",
              "      <td>15</td>\n",
              "      <td>0</td>\n",
              "      <td>1023</td>\n",
              "      <td>2</td>\n",
              "      <td>32</td>\n",
              "      <td>23</td>\n",
              "      <td>10</td>\n",
              "      <td>2</td>\n",
              "      <td>1</td>\n",
              "      <td>2</td>\n",
              "      <td>6</td>\n",
              "      <td>2</td>\n",
              "      <td>0</td>\n",
              "      <td>506</td>\n",
              "      <td>NaN</td>\n",
              "    </tr>\n",
              "    <tr>\n",
              "      <th>2</th>\n",
              "      <td>1</td>\n",
              "      <td>1</td>\n",
              "      <td>521760</td>\n",
              "      <td>1</td>\n",
              "      <td>0</td>\n",
              "      <td>0</td>\n",
              "      <td>0</td>\n",
              "      <td>0</td>\n",
              "      <td>0</td>\n",
              "      <td>0</td>\n",
              "      <td>2</td>\n",
              "      <td>415010012</td>\n",
              "      <td>3735.12</td>\n",
              "      <td>K562</td>\n",
              "      <td>27</td>\n",
              "      <td>0</td>\n",
              "      <td>1023</td>\n",
              "      <td>2</td>\n",
              "      <td>50</td>\n",
              "      <td>1</td>\n",
              "      <td>10</td>\n",
              "      <td>2</td>\n",
              "      <td>1</td>\n",
              "      <td>2</td>\n",
              "      <td>6</td>\n",
              "      <td>3</td>\n",
              "      <td>0</td>\n",
              "      <td>507</td>\n",
              "      <td>K564</td>\n",
              "    </tr>\n",
              "    <tr>\n",
              "      <th>3</th>\n",
              "      <td>1</td>\n",
              "      <td>1</td>\n",
              "      <td>521760</td>\n",
              "      <td>1</td>\n",
              "      <td>0</td>\n",
              "      <td>0</td>\n",
              "      <td>0</td>\n",
              "      <td>6</td>\n",
              "      <td>75</td>\n",
              "      <td>0</td>\n",
              "      <td>2</td>\n",
              "      <td>415010012</td>\n",
              "      <td>6570.71</td>\n",
              "      <td>K564</td>\n",
              "      <td>27</td>\n",
              "      <td>0</td>\n",
              "      <td>1023</td>\n",
              "      <td>2</td>\n",
              "      <td>50</td>\n",
              "      <td>7</td>\n",
              "      <td>10</td>\n",
              "      <td>2</td>\n",
              "      <td>1</td>\n",
              "      <td>2</td>\n",
              "      <td>6</td>\n",
              "      <td>3</td>\n",
              "      <td>0</td>\n",
              "      <td>509</td>\n",
              "      <td>K650</td>\n",
              "    </tr>\n",
              "    <tr>\n",
              "      <th>4</th>\n",
              "      <td>1</td>\n",
              "      <td>1</td>\n",
              "      <td>521760</td>\n",
              "      <td>1</td>\n",
              "      <td>0</td>\n",
              "      <td>0</td>\n",
              "      <td>0</td>\n",
              "      <td>2</td>\n",
              "      <td>75</td>\n",
              "      <td>0</td>\n",
              "      <td>2</td>\n",
              "      <td>415010012</td>\n",
              "      <td>4807.07</td>\n",
              "      <td>K564</td>\n",
              "      <td>27</td>\n",
              "      <td>0</td>\n",
              "      <td>1023</td>\n",
              "      <td>2</td>\n",
              "      <td>50</td>\n",
              "      <td>3</td>\n",
              "      <td>10</td>\n",
              "      <td>2</td>\n",
              "      <td>1</td>\n",
              "      <td>2</td>\n",
              "      <td>6</td>\n",
              "      <td>3</td>\n",
              "      <td>0</td>\n",
              "      <td>510</td>\n",
              "      <td>K822</td>\n",
              "    </tr>\n",
              "  </tbody>\n",
              "</table>\n",
              "</div>\n",
              "    <div class=\"colab-df-buttons\">\n",
              "\n",
              "  <div class=\"colab-df-container\">\n",
              "    <button class=\"colab-df-convert\" onclick=\"convertToInteractive('df-51a85154-7d98-4a39-82fc-743926a37e79')\"\n",
              "            title=\"Convert this dataframe to an interactive table.\"\n",
              "            style=\"display:none;\">\n",
              "\n",
              "  <svg xmlns=\"http://www.w3.org/2000/svg\" height=\"24px\" viewBox=\"0 -960 960 960\">\n",
              "    <path d=\"M120-120v-720h720v720H120Zm60-500h600v-160H180v160Zm220 220h160v-160H400v160Zm0 220h160v-160H400v160ZM180-400h160v-160H180v160Zm440 0h160v-160H620v160ZM180-180h160v-160H180v160Zm440 0h160v-160H620v160Z\"/>\n",
              "  </svg>\n",
              "    </button>\n",
              "\n",
              "  <style>\n",
              "    .colab-df-container {\n",
              "      display:flex;\n",
              "      gap: 12px;\n",
              "    }\n",
              "\n",
              "    .colab-df-convert {\n",
              "      background-color: #E8F0FE;\n",
              "      border: none;\n",
              "      border-radius: 50%;\n",
              "      cursor: pointer;\n",
              "      display: none;\n",
              "      fill: #1967D2;\n",
              "      height: 32px;\n",
              "      padding: 0 0 0 0;\n",
              "      width: 32px;\n",
              "    }\n",
              "\n",
              "    .colab-df-convert:hover {\n",
              "      background-color: #E2EBFA;\n",
              "      box-shadow: 0px 1px 2px rgba(60, 64, 67, 0.3), 0px 1px 3px 1px rgba(60, 64, 67, 0.15);\n",
              "      fill: #174EA6;\n",
              "    }\n",
              "\n",
              "    .colab-df-buttons div {\n",
              "      margin-bottom: 4px;\n",
              "    }\n",
              "\n",
              "    [theme=dark] .colab-df-convert {\n",
              "      background-color: #3B4455;\n",
              "      fill: #D2E3FC;\n",
              "    }\n",
              "\n",
              "    [theme=dark] .colab-df-convert:hover {\n",
              "      background-color: #434B5C;\n",
              "      box-shadow: 0px 1px 3px 1px rgba(0, 0, 0, 0.15);\n",
              "      filter: drop-shadow(0px 1px 2px rgba(0, 0, 0, 0.3));\n",
              "      fill: #FFFFFF;\n",
              "    }\n",
              "  </style>\n",
              "\n",
              "    <script>\n",
              "      const buttonEl =\n",
              "        document.querySelector('#df-51a85154-7d98-4a39-82fc-743926a37e79 button.colab-df-convert');\n",
              "      buttonEl.style.display =\n",
              "        google.colab.kernel.accessAllowed ? 'block' : 'none';\n",
              "\n",
              "      async function convertToInteractive(key) {\n",
              "        const element = document.querySelector('#df-51a85154-7d98-4a39-82fc-743926a37e79');\n",
              "        const dataTable =\n",
              "          await google.colab.kernel.invokeFunction('convertToInteractive',\n",
              "                                                    [key], {});\n",
              "        if (!dataTable) return;\n",
              "\n",
              "        const docLinkHtml = 'Like what you see? Visit the ' +\n",
              "          '<a target=\"_blank\" href=https://colab.research.google.com/notebooks/data_table.ipynb>data table notebook</a>'\n",
              "          + ' to learn more about interactive tables.';\n",
              "        element.innerHTML = '';\n",
              "        dataTable['output_type'] = 'display_data';\n",
              "        await google.colab.output.renderOutput(dataTable, element);\n",
              "        const docLink = document.createElement('div');\n",
              "        docLink.innerHTML = docLinkHtml;\n",
              "        element.appendChild(docLink);\n",
              "      }\n",
              "    </script>\n",
              "  </div>\n",
              "\n",
              "\n",
              "<div id=\"df-d3412224-a62a-4ca7-9839-9db3f39e3815\">\n",
              "  <button class=\"colab-df-quickchart\" onclick=\"quickchart('df-d3412224-a62a-4ca7-9839-9db3f39e3815')\"\n",
              "            title=\"Suggest charts\"\n",
              "            style=\"display:none;\">\n",
              "\n",
              "<svg xmlns=\"http://www.w3.org/2000/svg\" height=\"24px\"viewBox=\"0 0 24 24\"\n",
              "     width=\"24px\">\n",
              "    <g>\n",
              "        <path d=\"M19 3H5c-1.1 0-2 .9-2 2v14c0 1.1.9 2 2 2h14c1.1 0 2-.9 2-2V5c0-1.1-.9-2-2-2zM9 17H7v-7h2v7zm4 0h-2V7h2v10zm4 0h-2v-4h2v4z\"/>\n",
              "    </g>\n",
              "</svg>\n",
              "  </button>\n",
              "\n",
              "<style>\n",
              "  .colab-df-quickchart {\n",
              "      --bg-color: #E8F0FE;\n",
              "      --fill-color: #1967D2;\n",
              "      --hover-bg-color: #E2EBFA;\n",
              "      --hover-fill-color: #174EA6;\n",
              "      --disabled-fill-color: #AAA;\n",
              "      --disabled-bg-color: #DDD;\n",
              "  }\n",
              "\n",
              "  [theme=dark] .colab-df-quickchart {\n",
              "      --bg-color: #3B4455;\n",
              "      --fill-color: #D2E3FC;\n",
              "      --hover-bg-color: #434B5C;\n",
              "      --hover-fill-color: #FFFFFF;\n",
              "      --disabled-bg-color: #3B4455;\n",
              "      --disabled-fill-color: #666;\n",
              "  }\n",
              "\n",
              "  .colab-df-quickchart {\n",
              "    background-color: var(--bg-color);\n",
              "    border: none;\n",
              "    border-radius: 50%;\n",
              "    cursor: pointer;\n",
              "    display: none;\n",
              "    fill: var(--fill-color);\n",
              "    height: 32px;\n",
              "    padding: 0;\n",
              "    width: 32px;\n",
              "  }\n",
              "\n",
              "  .colab-df-quickchart:hover {\n",
              "    background-color: var(--hover-bg-color);\n",
              "    box-shadow: 0 1px 2px rgba(60, 64, 67, 0.3), 0 1px 3px 1px rgba(60, 64, 67, 0.15);\n",
              "    fill: var(--button-hover-fill-color);\n",
              "  }\n",
              "\n",
              "  .colab-df-quickchart-complete:disabled,\n",
              "  .colab-df-quickchart-complete:disabled:hover {\n",
              "    background-color: var(--disabled-bg-color);\n",
              "    fill: var(--disabled-fill-color);\n",
              "    box-shadow: none;\n",
              "  }\n",
              "\n",
              "  .colab-df-spinner {\n",
              "    border: 2px solid var(--fill-color);\n",
              "    border-color: transparent;\n",
              "    border-bottom-color: var(--fill-color);\n",
              "    animation:\n",
              "      spin 1s steps(1) infinite;\n",
              "  }\n",
              "\n",
              "  @keyframes spin {\n",
              "    0% {\n",
              "      border-color: transparent;\n",
              "      border-bottom-color: var(--fill-color);\n",
              "      border-left-color: var(--fill-color);\n",
              "    }\n",
              "    20% {\n",
              "      border-color: transparent;\n",
              "      border-left-color: var(--fill-color);\n",
              "      border-top-color: var(--fill-color);\n",
              "    }\n",
              "    30% {\n",
              "      border-color: transparent;\n",
              "      border-left-color: var(--fill-color);\n",
              "      border-top-color: var(--fill-color);\n",
              "      border-right-color: var(--fill-color);\n",
              "    }\n",
              "    40% {\n",
              "      border-color: transparent;\n",
              "      border-right-color: var(--fill-color);\n",
              "      border-top-color: var(--fill-color);\n",
              "    }\n",
              "    60% {\n",
              "      border-color: transparent;\n",
              "      border-right-color: var(--fill-color);\n",
              "    }\n",
              "    80% {\n",
              "      border-color: transparent;\n",
              "      border-right-color: var(--fill-color);\n",
              "      border-bottom-color: var(--fill-color);\n",
              "    }\n",
              "    90% {\n",
              "      border-color: transparent;\n",
              "      border-bottom-color: var(--fill-color);\n",
              "    }\n",
              "  }\n",
              "</style>\n",
              "\n",
              "  <script>\n",
              "    async function quickchart(key) {\n",
              "      const quickchartButtonEl =\n",
              "        document.querySelector('#' + key + ' button');\n",
              "      quickchartButtonEl.disabled = true;  // To prevent multiple clicks.\n",
              "      quickchartButtonEl.classList.add('colab-df-spinner');\n",
              "      try {\n",
              "        const charts = await google.colab.kernel.invokeFunction(\n",
              "            'suggestCharts', [key], {});\n",
              "      } catch (error) {\n",
              "        console.error('Error during call to suggestCharts:', error);\n",
              "      }\n",
              "      quickchartButtonEl.classList.remove('colab-df-spinner');\n",
              "      quickchartButtonEl.classList.add('colab-df-quickchart-complete');\n",
              "    }\n",
              "    (() => {\n",
              "      let quickchartButtonEl =\n",
              "        document.querySelector('#df-d3412224-a62a-4ca7-9839-9db3f39e3815 button');\n",
              "      quickchartButtonEl.style.display =\n",
              "        google.colab.kernel.accessAllowed ? 'block' : 'none';\n",
              "    })();\n",
              "  </script>\n",
              "</div>\n",
              "\n",
              "    </div>\n",
              "  </div>\n"
            ],
            "application/vnd.google.colaboratory.intrinsic+json": {
              "type": "dataframe",
              "variable_name": "df_sus"
            }
          },
          "metadata": {},
          "execution_count": 70
        }
      ]
    },
    {
      "cell_type": "markdown",
      "source": [
        "#### Tratamento da base e seleção das variáveis de interesse\n",
        "\n",
        "---\n",
        "\n"
      ],
      "metadata": {
        "id": "YmBnu1I70jkF"
      }
    },
    {
      "cell_type": "code",
      "source": [
        "pd.options.display.max_columns = 113\n",
        "df_sus.info()"
      ],
      "metadata": {
        "colab": {
          "base_uri": "https://localhost:8080/"
        },
        "id": "2hw3ziY5iEec",
        "outputId": "b5de3a9b-73f8-4175-c041-e4a4a5ad3473"
      },
      "execution_count": 71,
      "outputs": [
        {
          "output_type": "stream",
          "name": "stdout",
          "text": [
            "<class 'pandas.core.frame.DataFrame'>\n",
            "RangeIndex: 22390 entries, 0 to 22389\n",
            "Data columns (total 29 columns):\n",
            " #   Column      Non-Null Count  Dtype  \n",
            "---  ------      --------------  -----  \n",
            " 0   ESPEC       22390 non-null  int64  \n",
            " 1   IDENT       22390 non-null  int64  \n",
            " 2   MUNIC_RES   22390 non-null  int64  \n",
            " 3   SEXO        22390 non-null  int64  \n",
            " 4   UTI_MES_IN  22390 non-null  int64  \n",
            " 5   UTI_MES_AN  22390 non-null  int64  \n",
            " 6   UTI_MES_AL  22390 non-null  int64  \n",
            " 7   UTI_MES_TO  22390 non-null  int64  \n",
            " 8   MARCA_UTI   22390 non-null  int64  \n",
            " 9   DIAR_ACOM   22390 non-null  int64  \n",
            " 10  QT_DIARIAS  22390 non-null  int64  \n",
            " 11  PROC_REA    22390 non-null  int64  \n",
            " 12  VAL_TOT     22390 non-null  float64\n",
            " 13  DIAG_PRINC  22390 non-null  object \n",
            " 14  COBRANCA    22390 non-null  int64  \n",
            " 15  NATUREZA    22390 non-null  int64  \n",
            " 16  NAT_JUR     22390 non-null  int64  \n",
            " 17  GESTAO      22390 non-null  int64  \n",
            " 18  IDADE       22390 non-null  int64  \n",
            " 19  DIAS_PERM   22390 non-null  int64  \n",
            " 20  NACIONAL    22390 non-null  int64  \n",
            " 21  CAR_INT     22390 non-null  int64  \n",
            " 22  GESTRISCO   22390 non-null  int64  \n",
            " 23  COMPLEX     22390 non-null  int64  \n",
            " 24  FINANC      22390 non-null  int64  \n",
            " 25  RACA_COR    22390 non-null  int64  \n",
            " 26  ETNIA       22390 non-null  int64  \n",
            " 27  SEQUENCIA   22390 non-null  int64  \n",
            " 28  DIAGSEC1    3307 non-null   object \n",
            "dtypes: float64(1), int64(26), object(2)\n",
            "memory usage: 5.0+ MB\n"
          ]
        }
      ]
    },
    {
      "cell_type": "markdown",
      "source": [
        "Tratamento das variáveis DIAG_PRINC e DIAGSEC1"
      ],
      "metadata": {
        "id": "H9aPXMY8_XE6"
      }
    },
    {
      "cell_type": "markdown",
      "source": [
        "As variáveis trazem o codigo cid composto por uma letra que representa a classe e um codigo numérico que representa a doença. Trataremos as variáveis para representarem apenas as classes de doenças."
      ],
      "metadata": {
        "id": "RE5UsdtMD5MQ"
      }
    },
    {
      "cell_type": "code",
      "source": [
        "df_sus[\"DIAGSEC1\"].unique()"
      ],
      "metadata": {
        "colab": {
          "base_uri": "https://localhost:8080/"
        },
        "id": "eQAXpo6NBTkh",
        "outputId": "97dfd351-c6a9-4ddd-8cdd-8b30c3197fb3"
      },
      "execution_count": 72,
      "outputs": [
        {
          "output_type": "execute_result",
          "data": {
            "text/plain": [
              "array([nan, 'K564', 'K650', 'K822', 'Y349', 'X589', 'Y899', 'E669',\n",
              "       'K450', 'S367', 'Z515', 'Y000', 'Y849', 'W199', 'W999', 'W009',\n",
              "       'V299', 'J459', 'D571', 'G809', 'V289', 'M702', 'A90 ', 'N189',\n",
              "       'I64 ', 'I500', 'V129', 'W019', 'W329', 'D410', 'M328', 'V874',\n",
              "       'J039', 'J210', 'F03 ', 'H659', 'W189', 'V899', 'X599', 'W179',\n",
              "       'V224', 'Y049', 'V180', 'W105', 'V234', 'W209', 'V239', 'W449',\n",
              "       'C341', 'F168', 'K830', 'J960', 'W777', 'I10 ', 'R568', 'X649',\n",
              "       'V029', 'N390', 'J159', 'J189', 'V298', 'I420', 'I509', 'V229',\n",
              "       'I51 ', 'T369', 'X228', 'N459', 'W000', 'W290', 'Y838', 'X789',\n",
              "       'A509', 'X220', 'X200', 'X229', 'L249', 'J21 ', 'V429', 'B342',\n",
              "       'I50 ', 'W419', 'V199', 'V486', 'S062', 'G049', 'M861', 'X400',\n",
              "       'X100', 'W010', 'C539', 'W499', 'I739', 'X999', 'X209', 'T909',\n",
              "       'N488', 'X840', 'Y848', 'V092', 'X449', 'J18 ', 'W069', 'I619',\n",
              "       'W319', 'I702', 'W109', 'V093', 'X640', 'W190', 'Y189', 'V249',\n",
              "       'B24 ', 'I712', 'W139', 'Y099', 'X809', 'V021', 'W239', 'X588',\n",
              "       'G309', 'Y883', 'O623', 'O48 ', 'X207', 'V031', 'W269', 'W509',\n",
              "       'O269', 'O365', 'Y89 ', 'Z940', 'Y839', 'L089', 'W259', 'N201',\n",
              "       'N28 ', 'I671', 'N44 ', 'L032', 'T828', 'A91 ', 'M419', 'C329',\n",
              "       'W018', 'Y98 ', 'R932', 'C508', 'J969', 'J441', 'R18 ', 'Q315',\n",
              "       'V479', 'M255', 'W149', 'A418', 'I249', 'L97 ', 'C348', 'R578',\n",
              "       'W649', 'C20 ', 'K731', 'R64 ', 'K850', 'V011', 'W359', 'D610',\n",
              "       'J342', 'K420', 'G942', 'I602', 'I48 ', 'J959', 'G931', 'I469',\n",
              "       'I499', 'K921', 'K746', 'I269', 'J180', 'N179', 'W039', 'E872',\n",
              "       'X959', 'I710', 'J984', 'N131', 'V209', 'D430', 'R570', 'C259',\n",
              "       'I062', 'V499', 'J45 ', 'R509', 'R11 ', 'D729', 'D751', 'I609',\n",
              "       'X499', 'A419', 'K566', 'Y28 ', 'W219', 'D439', 'E145', 'C900',\n",
              "       'L039', 'J930', 'C090', 'I21 ', 'C349', 'I219', 'V041', 'V439',\n",
              "       'I272', 'W349', 'I772', 'K919', 'C678', 'G936', 'I850', 'D619',\n",
              "       'D630', 'N814', 'S826', 'W249', 'X939', 'C442', 'C609', 'G400',\n",
              "       'Y048', 'I691', 'V449', 'I677', 'C34 ', 'I749', 'I050', 'O10 ',\n",
              "       'X029', 'J218', 'W008', 'R33 ', 'O981', 'V202', 'A499', 'O300',\n",
              "       'O342', 'L299', 'V279', 'X503', 'W888', 'R02 ', 'X990', 'O368',\n",
              "       'Y792', 'X934', 'C008', 'W213', 'V98 ', 'X179', 'O249', 'Y339',\n",
              "       'Y606', 'R31 ', 'V099', 'V182', 'N816', 'E849', 'J111', 'Y289',\n",
              "       'G825', 'F023', 'Y450', 'F101', 'J91 ', 'F018', 'T814', 'D595',\n",
              "       'X933', 'J440', 'Y499', 'Y578', 'F103', 'J81 ', 'P925', 'P598',\n",
              "       'P928', 'P134', 'P07 ', 'P59 ', 'I200', 'Z915', 'P081', 'P070',\n",
              "       'P704', 'P000', 'P920', 'E039', 'J449', 'S099', 'M869', 'N209',\n",
              "       'F145', 'I251', 'O239', 'O429', 'P071', 'P289', 'C229', 'P051',\n",
              "       'O681', 'P599', 'Q02 ', 'P229', 'P073', 'P551', 'D688', 'W004',\n",
              "       'Y65 ', 'K231', 'G932', 'R05 ', 'V189', 'D432', 'K868', 'T845',\n",
              "       'G700', 'T145', 'S724', 'M125', 'D434', 'K439', 'O234', 'G934',\n",
              "       'H160', 'K922', 'X000', 'W559', 'N733', 'Y280', 'O101', 'O364',\n",
              "       'O654', 'S065', 'D733', 'C56 ', 'C509', 'M321', 'J158', 'W022',\n",
              "       'G91 ', 'X22 ', 'O998', 'O36 ', 'W268', 'V290', 'W194', 'N818',\n",
              "       'F328', 'K629', 'K778', 'Y86 ', 'Y329', 'Y324', 'E859', 'N111',\n",
              "       'K808', 'C186', 'C438', 'C798', 'C161', 'H350', 'R104', 'I743',\n",
              "       'C61 ', 'M205', 'C73 ', 'C64 ', 'J939', 'A523', 'C187', 'R410',\n",
              "       'S098', 'G952', 'L029', 'C069', 'W229', 'E105', 'J90 ', 'X489',\n",
              "       'V879', 'W493', 'W318', 'Q380', 'I460', 'X641', 'W178', 'X620',\n",
              "       'X409', 'X419', 'K703', 'R100', 'I270', 'X699', 'X639', 'X643',\n",
              "       'J352', 'W45 ', 'D735', 'E86 ', 'Q819', 'X279', 'N981', 'R571',\n",
              "       'I694', 'R060', 'X009', 'Q249', 'J068', 'P072', 'X290', 'O441',\n",
              "       'N883', 'Q792', 'O041', 'D500', 'J108', 'J219', 'R51 ', 'I829',\n",
              "       'E108', 'P044', 'K570', 'K572', 'O13 ', 'A46 ', 'V039', 'W170',\n",
              "       'W503', 'W879', 'W578', 'W570', 'W316', 'V433', 'L088', 'V010',\n",
              "       'W193', 'W129', 'V430', 'H669', 'J069', 'Q666', 'N18 ', 'R53 ',\n",
              "       'N040', 'J36 ', 'O244', 'S069', 'I629', 'N328', 'C155', 'I442',\n",
              "       'D093', 'D27 ', 'V104', 'O150', 'T868', 'E109', 'C538', 'E835',\n",
              "       'K20 ', 'Y911', 'T149', 'R190', 'C252', 'Z950', 'L028', 'Y239',\n",
              "       'I052', 'H264', 'R57 ', 'N180', 'C833', 'S068', 'D738', 'Y009',\n",
              "       'I802', 'K359', 'N701', 'R418', 'L89 ', 'N512', 'T833', 'N939',\n",
              "       'K800', 'H532', 'K920', 'Q909', 'O670', 'K350', 'N188', 'A150',\n",
              "       'A09 ', 'K409', 'Z431', 'P550', 'B069', 'A539', 'I339', 'Z539',\n",
              "       'Y281', 'Y832', 'I693', 'Q210', 'R520', 'O335', 'B379', 'T818',\n",
              "       'N17 ', 'Q381', 'P002', 'D509', 'Q539', 'R739', 'V139', 'W049',\n",
              "       'P228', 'T784', 'I260', 'I729', 'I660', 'B374', 'K631', 'O320',\n",
              "       'W260', 'Y84 ', 'K810', 'Y579', 'Q531', 'W013', 'E118', 'I130',\n",
              "       'M349', 'R599', 'R101', 'N838', 'K802', 'Z754', 'S360', 'I350',\n",
              "       'S722', 'W099', 'K562', 'N171', 'O715', 'W279', 'C185', 'D334',\n",
              "       'R040', 'F024', 'E119', 'K870', 'C162', 'M069', 'G409', 'G25 ',\n",
              "       'R17 ', 'W859', 'W459', 'V800', 'X619', 'I498', 'A53 ', 'G40 ',\n",
              "       'C170', 'I429', 'X700', 'O679', 'X788', 'A502', 'P371', 'P968',\n",
              "       'O034', 'I209', 'M866', 'X410', 'J690', 'K250', 'Z538', 'W060',\n",
              "       'E66 ', 'O149', 'N178', 'J80 ', 'L270', 'V193', 'Y029', 'V285',\n",
              "       'W195', 'V809', 'X299', 'J121', 'G820', 'N210', 'W223', 'E107',\n",
              "       'V870', 'F013', 'G608', 'W100', 'W176', 'W409', 'G93 ', 'W174',\n",
              "       'I639', 'G822', 'S728', 'F840', 'V124', 'Y288', 'W299', 'C749',\n",
              "       'D759', 'F329', 'V269', 'R579', 'J93 ', 'Y279', 'R102', 'D693',\n",
              "       'R560', 'Q213', 'Y436', 'N926', 'B878', 'A049', 'E871', 'V030',\n",
              "       'W003', 'V689', 'C696', 'J019', 'R092', 'F412', 'P271', 'J100',\n",
              "       'C189', 'D460', 'C220', 'I490', 'I620', 'K590', 'Y835', 'R948',\n",
              "       'J938', 'C920', 'R91 ', 'C851', 'X59 ', 'W265', 'Y83 ', 'W328',\n",
              "       'T813', 'M868', 'O235', 'W183', 'M650', 'R13 ', 'R55 ', 'I132',\n",
              "       'O470', 'M864', 'N800', 'R34 ', 'M862', 'G210', 'Y149', 'K804',\n",
              "       'W440', 'B572', 'R72 ', 'I638', 'R001', 'M844', 'R521', 'E148',\n",
              "       'P929', 'K831', 'O233', 'C500', 'O458', 'W87 ', 'W50 ', 'D538',\n",
              "       'X709', 'Y831', 'E45 ', 'X583', 'Z801', 'G919', 'J206', 'V489',\n",
              "       'Y748'], dtype=object)"
            ]
          },
          "metadata": {},
          "execution_count": 72
        }
      ]
    },
    {
      "cell_type": "code",
      "source": [
        "df_sus['DIAGSEC1'] = df_sus['DIAGSEC1'].astype(str).str[0]"
      ],
      "metadata": {
        "id": "Tz5Q5hTm_0ix"
      },
      "execution_count": 73,
      "outputs": []
    },
    {
      "cell_type": "code",
      "source": [
        "df_sus['DIAGSEC1'].unique()"
      ],
      "metadata": {
        "colab": {
          "base_uri": "https://localhost:8080/"
        },
        "id": "Kla9FAmvACF5",
        "outputId": "190a427a-c2f2-4644-c2ef-db5c5a6d0610"
      },
      "execution_count": 74,
      "outputs": [
        {
          "output_type": "execute_result",
          "data": {
            "text/plain": [
              "array(['n', 'K', 'Y', 'X', 'E', 'S', 'Z', 'W', 'V', 'J', 'D', 'G', 'M',\n",
              "       'A', 'N', 'I', 'F', 'H', 'C', 'R', 'T', 'L', 'B', 'O', 'Q', 'P'],\n",
              "      dtype=object)"
            ]
          },
          "metadata": {},
          "execution_count": 74
        }
      ]
    },
    {
      "cell_type": "markdown",
      "source": [
        "Como não há nos dados CID iniciando em U, usaremos esse codigo para os Cids em não preenchidos da variável."
      ],
      "metadata": {
        "id": "h6rCiDIXEQMp"
      }
    },
    {
      "cell_type": "code",
      "source": [
        "df_sus['DIAGSEC1'] = df_sus['DIAGSEC1'].replace('n','U')"
      ],
      "metadata": {
        "id": "u_D0MDIwEaYi"
      },
      "execution_count": 75,
      "outputs": []
    },
    {
      "cell_type": "code",
      "source": [
        "df_sus['DIAGSEC1'].unique()"
      ],
      "metadata": {
        "colab": {
          "base_uri": "https://localhost:8080/"
        },
        "id": "25u5uBloEfpB",
        "outputId": "79989000-c428-4052-dcb4-ad0a624d902b"
      },
      "execution_count": 76,
      "outputs": [
        {
          "output_type": "execute_result",
          "data": {
            "text/plain": [
              "array(['U', 'K', 'Y', 'X', 'E', 'S', 'Z', 'W', 'V', 'J', 'D', 'G', 'M',\n",
              "       'A', 'N', 'I', 'F', 'H', 'C', 'R', 'T', 'L', 'B', 'O', 'Q', 'P'],\n",
              "      dtype=object)"
            ]
          },
          "metadata": {},
          "execution_count": 76
        }
      ]
    },
    {
      "cell_type": "code",
      "source": [
        "from sklearn.preprocessing import LabelEncoder\n",
        "\n",
        "le_diagsec = LabelEncoder()\n",
        "df_sus['DIAGSEC1'] = le_diagsec.fit_transform(df_sus['DIAGSEC1'])\n",
        "df_sus['DIAGSEC1'].unique()"
      ],
      "metadata": {
        "colab": {
          "base_uri": "https://localhost:8080/"
        },
        "id": "sZkCzZBxFKSq",
        "outputId": "ea5e0384-d0a5-41a1-92ee-d100eecb6fb4"
      },
      "execution_count": 77,
      "outputs": [
        {
          "output_type": "execute_result",
          "data": {
            "text/plain": [
              "array([20, 10, 24, 23,  4, 18, 25, 22, 21,  9,  3,  6, 12,  0, 13,  8,  5,\n",
              "        7,  2, 17, 19, 11,  1, 14, 16, 15])"
            ]
          },
          "metadata": {},
          "execution_count": 77
        }
      ]
    },
    {
      "cell_type": "code",
      "source": [
        "diagsec1_mapping = dict(zip(le_diagsec.classes_, le_diagsec.transform(le_diagsec.classes_)))\n",
        "print(\"Dicionário de encoding para DIAGSEC1:\")\n",
        "print(diagsec1_mapping)"
      ],
      "metadata": {
        "colab": {
          "base_uri": "https://localhost:8080/"
        },
        "id": "WNJ1fCfoIJhZ",
        "outputId": "e7a6924c-5070-4f23-fd38-c1c14c885504"
      },
      "execution_count": 78,
      "outputs": [
        {
          "output_type": "stream",
          "name": "stdout",
          "text": [
            "Dicionário de encoding para DIAGSEC1:\n",
            "{'A': 0, 'B': 1, 'C': 2, 'D': 3, 'E': 4, 'F': 5, 'G': 6, 'H': 7, 'I': 8, 'J': 9, 'K': 10, 'L': 11, 'M': 12, 'N': 13, 'O': 14, 'P': 15, 'Q': 16, 'R': 17, 'S': 18, 'T': 19, 'U': 20, 'V': 21, 'W': 22, 'X': 23, 'Y': 24, 'Z': 25}\n"
          ]
        }
      ]
    },
    {
      "cell_type": "markdown",
      "source": [
        "Agora o mesmo procedimento será aplicado para a variável DIAG_PRINC. Com a diferença que esta variável não apresenta valores em branco"
      ],
      "metadata": {
        "id": "BlEyWjdhFMwB"
      }
    },
    {
      "cell_type": "code",
      "source": [
        "le_diagprinc = LabelEncoder()"
      ],
      "metadata": {
        "id": "fHY0Vg2IH59w"
      },
      "execution_count": 79,
      "outputs": []
    },
    {
      "cell_type": "code",
      "source": [
        "df_sus[\"DIAG_PRINC\"].unique()"
      ],
      "metadata": {
        "colab": {
          "base_uri": "https://localhost:8080/"
        },
        "id": "iGuPNTBDFbak",
        "outputId": "d251eef4-061c-4e47-98e8-2cd274be0736"
      },
      "execution_count": 80,
      "outputs": [
        {
          "output_type": "execute_result",
          "data": {
            "text/plain": [
              "array(['R02 ', 'D731', 'K562', ..., 'M16 ', 'Q898', 'K605'], dtype=object)"
            ]
          },
          "metadata": {},
          "execution_count": 80
        }
      ]
    },
    {
      "cell_type": "code",
      "source": [
        "df_sus['DIAG_PRINC'] = df_sus['DIAG_PRINC'].astype(str).str[0]"
      ],
      "metadata": {
        "id": "MnOhGvinFf8w"
      },
      "execution_count": 81,
      "outputs": []
    },
    {
      "cell_type": "code",
      "source": [
        "df_sus[\"DIAG_PRINC\"].unique()"
      ],
      "metadata": {
        "colab": {
          "base_uri": "https://localhost:8080/"
        },
        "id": "RCA92tzOFmsT",
        "outputId": "f4e0a480-53be-405f-f12e-dbccd3b90b51"
      },
      "execution_count": 82,
      "outputs": [
        {
          "output_type": "execute_result",
          "data": {
            "text/plain": [
              "array(['R', 'D', 'K', 'A', 'O', 'E', 'J', 'T', 'C', 'L', 'H', 'N', 'S',\n",
              "       'Z', 'Q', 'I', 'G', 'M', 'F', 'P', 'B'], dtype=object)"
            ]
          },
          "metadata": {},
          "execution_count": 82
        }
      ]
    },
    {
      "cell_type": "code",
      "source": [
        "df_sus['DIAG_PRINC'] = le_diagprinc.fit_transform(df_sus['DIAG_PRINC'])\n",
        "df_sus['DIAG_PRINC'].unique()"
      ],
      "metadata": {
        "colab": {
          "base_uri": "https://localhost:8080/"
        },
        "id": "Jo8b2GPjFq0B",
        "outputId": "5da29c2c-de06-4385-8a71-927893aa143d"
      },
      "execution_count": 83,
      "outputs": [
        {
          "output_type": "execute_result",
          "data": {
            "text/plain": [
              "array([17,  3, 10,  0, 14,  4,  9, 19,  2, 11,  7, 13, 18, 20, 16,  8,  6,\n",
              "       12,  5, 15,  1])"
            ]
          },
          "metadata": {},
          "execution_count": 83
        }
      ]
    },
    {
      "cell_type": "code",
      "source": [
        "diagprinc_mapping = dict(zip(le_diagprinc.classes_, le_diagprinc.transform(le_diagprinc.classes_)))\n",
        "print(\"\\nDicionário de encoding para DIAG_PRINC:\")\n",
        "print(diagprinc_mapping)"
      ],
      "metadata": {
        "colab": {
          "base_uri": "https://localhost:8080/"
        },
        "id": "0FIzUBbGIHv4",
        "outputId": "f04c3cce-c610-4680-a831-b6f1db053376"
      },
      "execution_count": 84,
      "outputs": [
        {
          "output_type": "stream",
          "name": "stdout",
          "text": [
            "\n",
            "Dicionário de encoding para DIAG_PRINC:\n",
            "{'A': 0, 'B': 1, 'C': 2, 'D': 3, 'E': 4, 'F': 5, 'G': 6, 'H': 7, 'I': 8, 'J': 9, 'K': 10, 'L': 11, 'M': 12, 'N': 13, 'O': 14, 'P': 15, 'Q': 16, 'R': 17, 'S': 18, 'T': 19, 'Z': 20}\n"
          ]
        }
      ]
    },
    {
      "cell_type": "code",
      "source": [
        "df_sus.info()"
      ],
      "metadata": {
        "colab": {
          "base_uri": "https://localhost:8080/"
        },
        "id": "LYAib1VnJBOv",
        "outputId": "8a2440c4-c526-45ad-b3c9-1c728620e06d"
      },
      "execution_count": 88,
      "outputs": [
        {
          "output_type": "stream",
          "name": "stdout",
          "text": [
            "<class 'pandas.core.frame.DataFrame'>\n",
            "RangeIndex: 22390 entries, 0 to 22389\n",
            "Data columns (total 29 columns):\n",
            " #   Column      Non-Null Count  Dtype  \n",
            "---  ------      --------------  -----  \n",
            " 0   ESPEC       22390 non-null  int64  \n",
            " 1   IDENT       22390 non-null  int64  \n",
            " 2   MUNIC_RES   22390 non-null  int64  \n",
            " 3   SEXO        22390 non-null  int64  \n",
            " 4   UTI_MES_IN  22390 non-null  int64  \n",
            " 5   UTI_MES_AN  22390 non-null  int64  \n",
            " 6   UTI_MES_AL  22390 non-null  int64  \n",
            " 7   UTI_MES_TO  22390 non-null  int64  \n",
            " 8   MARCA_UTI   22390 non-null  int64  \n",
            " 9   DIAR_ACOM   22390 non-null  int64  \n",
            " 10  QT_DIARIAS  22390 non-null  int64  \n",
            " 11  PROC_REA    22390 non-null  int64  \n",
            " 12  VAL_TOT     22390 non-null  float64\n",
            " 13  DIAG_PRINC  22390 non-null  int64  \n",
            " 14  COBRANCA    22390 non-null  int64  \n",
            " 15  NATUREZA    22390 non-null  int64  \n",
            " 16  NAT_JUR     22390 non-null  int64  \n",
            " 17  GESTAO      22390 non-null  int64  \n",
            " 18  IDADE       22390 non-null  int64  \n",
            " 19  DIAS_PERM   22390 non-null  int64  \n",
            " 20  NACIONAL    22390 non-null  int64  \n",
            " 21  CAR_INT     22390 non-null  int64  \n",
            " 22  GESTRISCO   22390 non-null  int64  \n",
            " 23  COMPLEX     22390 non-null  int64  \n",
            " 24  FINANC      22390 non-null  int64  \n",
            " 25  RACA_COR    22390 non-null  int64  \n",
            " 26  ETNIA       22390 non-null  int64  \n",
            " 27  SEQUENCIA   22390 non-null  int64  \n",
            " 28  DIAGSEC1    22390 non-null  int64  \n",
            "dtypes: float64(1), int64(28)\n",
            "memory usage: 5.0 MB\n"
          ]
        }
      ]
    },
    {
      "cell_type": "markdown",
      "source": [
        "#### Todas as variáveis são numéricas, iniciando análise exploratória de dados\n",
        "\n",
        "---"
      ],
      "metadata": {
        "id": "glrf3geM0ow7"
      }
    },
    {
      "cell_type": "code",
      "source": [
        "df_sus.describe()"
      ],
      "metadata": {
        "colab": {
          "base_uri": "https://localhost:8080/",
          "height": 320
        },
        "id": "s8Vuyp7-2Fbc",
        "outputId": "bc31ff24-b3ff-4215-c110-6ec6dcdf978e"
      },
      "execution_count": 89,
      "outputs": [
        {
          "output_type": "execute_result",
          "data": {
            "text/plain": [
              "         ESPEC    IDENT  MUNIC_RES     SEXO  UTI_MES_IN  UTI_MES_AN  \\\n",
              "count 22390.00 22390.00   22390.00 22390.00    22390.00    22390.00   \n",
              "mean      3.66     1.02  522213.95     2.18        0.00        0.00   \n",
              "std       5.00     0.28   41598.11     0.98        0.00        0.00   \n",
              "min       1.00     1.00  110002.00     1.00        0.00        0.00   \n",
              "25%       2.00     1.00  530010.00     1.00        0.00        0.00   \n",
              "50%       3.00     1.00  530010.00     3.00        0.00        0.00   \n",
              "75%       7.00     1.00  530010.00     3.00        0.00        0.00   \n",
              "max      87.00     5.00  530010.00     3.00        0.00        0.00   \n",
              "\n",
              "       UTI_MES_AL  UTI_MES_TO  MARCA_UTI  DIAR_ACOM  QT_DIARIAS     PROC_REA  \\\n",
              "count    22390.00    22390.00   22390.00   22390.00    22390.00     22390.00   \n",
              "mean         0.00        0.59       4.89       3.58        5.42 337689769.48   \n",
              "std          0.00        3.46      18.76       6.40        7.94  51026531.25   \n",
              "min          0.00        0.00       0.00       0.00        0.00 201010143.00   \n",
              "25%          0.00        0.00       0.00       0.00        1.00 303070110.00   \n",
              "50%          0.00        0.00       0.00       2.00        3.00 303170140.00   \n",
              "75%          0.00        0.00       0.00       4.00        6.00 407020136.00   \n",
              "max          0.00       75.00      99.00      95.00      104.00 506020118.00   \n",
              "\n",
              "        VAL_TOT  DIAG_PRINC  COBRANCA  NATUREZA  NAT_JUR   GESTAO    IDADE  \\\n",
              "count  22390.00    22390.00  22390.00  22390.00 22390.00 22390.00 22390.00   \n",
              "mean    1518.94        9.38     21.26      0.00  1622.15     2.00    33.31   \n",
              "std     4126.34        6.46     15.21      0.00   975.18     0.00    24.55   \n",
              "min        0.00        0.00     11.00      0.00  1023.00     2.00     0.00   \n",
              "25%      287.76        5.00     12.00      0.00  1023.00     2.00    11.00   \n",
              "50%      564.93        7.00     15.00      0.00  1023.00     2.00    30.00   \n",
              "75%     1019.93       15.00     26.00      0.00  3069.00     2.00    52.00   \n",
              "max   130211.83       20.00     64.00      0.00  3999.00     2.00    99.00   \n",
              "\n",
              "       DIAS_PERM  NACIONAL  CAR_INT  GESTRISCO  COMPLEX   FINANC  RACA_COR  \\\n",
              "count   22390.00  22390.00 22390.00   22390.00 22390.00 22390.00  22390.00   \n",
              "mean        5.79     10.24     1.87       1.00     2.06     5.91      2.58   \n",
              "std         8.49      5.90     0.38       0.04     0.24     0.41      0.80   \n",
              "min         0.00     10.00     1.00       0.00     2.00     4.00      1.00   \n",
              "25%         2.00     10.00     2.00       1.00     2.00     6.00      3.00   \n",
              "50%         3.00     10.00     2.00       1.00     2.00     6.00      3.00   \n",
              "75%         6.00     10.00     2.00       1.00     2.00     6.00      3.00   \n",
              "max       103.00    277.00     6.00       1.00     3.00     6.00      5.00   \n",
              "\n",
              "         ETNIA  SEQUENCIA  DIAGSEC1  \n",
              "count 22390.00   22390.00  22390.00  \n",
              "mean      0.03   11817.73     19.71  \n",
              "std       2.31    6727.96      2.75  \n",
              "min       0.00     283.00      0.00  \n",
              "25%       0.00    5921.25     20.00  \n",
              "50%       0.00   11893.50     20.00  \n",
              "75%       0.00   17724.75     20.00  \n",
              "max     241.00   23373.00     25.00  "
            ],
            "text/html": [
              "\n",
              "  <div id=\"df-616af1bf-315d-4a16-9421-1012db070d28\" class=\"colab-df-container\">\n",
              "    <div>\n",
              "<style scoped>\n",
              "    .dataframe tbody tr th:only-of-type {\n",
              "        vertical-align: middle;\n",
              "    }\n",
              "\n",
              "    .dataframe tbody tr th {\n",
              "        vertical-align: top;\n",
              "    }\n",
              "\n",
              "    .dataframe thead th {\n",
              "        text-align: right;\n",
              "    }\n",
              "</style>\n",
              "<table border=\"1\" class=\"dataframe\">\n",
              "  <thead>\n",
              "    <tr style=\"text-align: right;\">\n",
              "      <th></th>\n",
              "      <th>ESPEC</th>\n",
              "      <th>IDENT</th>\n",
              "      <th>MUNIC_RES</th>\n",
              "      <th>SEXO</th>\n",
              "      <th>UTI_MES_IN</th>\n",
              "      <th>UTI_MES_AN</th>\n",
              "      <th>UTI_MES_AL</th>\n",
              "      <th>UTI_MES_TO</th>\n",
              "      <th>MARCA_UTI</th>\n",
              "      <th>DIAR_ACOM</th>\n",
              "      <th>QT_DIARIAS</th>\n",
              "      <th>PROC_REA</th>\n",
              "      <th>VAL_TOT</th>\n",
              "      <th>DIAG_PRINC</th>\n",
              "      <th>COBRANCA</th>\n",
              "      <th>NATUREZA</th>\n",
              "      <th>NAT_JUR</th>\n",
              "      <th>GESTAO</th>\n",
              "      <th>IDADE</th>\n",
              "      <th>DIAS_PERM</th>\n",
              "      <th>NACIONAL</th>\n",
              "      <th>CAR_INT</th>\n",
              "      <th>GESTRISCO</th>\n",
              "      <th>COMPLEX</th>\n",
              "      <th>FINANC</th>\n",
              "      <th>RACA_COR</th>\n",
              "      <th>ETNIA</th>\n",
              "      <th>SEQUENCIA</th>\n",
              "      <th>DIAGSEC1</th>\n",
              "    </tr>\n",
              "  </thead>\n",
              "  <tbody>\n",
              "    <tr>\n",
              "      <th>count</th>\n",
              "      <td>22390.00</td>\n",
              "      <td>22390.00</td>\n",
              "      <td>22390.00</td>\n",
              "      <td>22390.00</td>\n",
              "      <td>22390.00</td>\n",
              "      <td>22390.00</td>\n",
              "      <td>22390.00</td>\n",
              "      <td>22390.00</td>\n",
              "      <td>22390.00</td>\n",
              "      <td>22390.00</td>\n",
              "      <td>22390.00</td>\n",
              "      <td>22390.00</td>\n",
              "      <td>22390.00</td>\n",
              "      <td>22390.00</td>\n",
              "      <td>22390.00</td>\n",
              "      <td>22390.00</td>\n",
              "      <td>22390.00</td>\n",
              "      <td>22390.00</td>\n",
              "      <td>22390.00</td>\n",
              "      <td>22390.00</td>\n",
              "      <td>22390.00</td>\n",
              "      <td>22390.00</td>\n",
              "      <td>22390.00</td>\n",
              "      <td>22390.00</td>\n",
              "      <td>22390.00</td>\n",
              "      <td>22390.00</td>\n",
              "      <td>22390.00</td>\n",
              "      <td>22390.00</td>\n",
              "      <td>22390.00</td>\n",
              "    </tr>\n",
              "    <tr>\n",
              "      <th>mean</th>\n",
              "      <td>3.66</td>\n",
              "      <td>1.02</td>\n",
              "      <td>522213.95</td>\n",
              "      <td>2.18</td>\n",
              "      <td>0.00</td>\n",
              "      <td>0.00</td>\n",
              "      <td>0.00</td>\n",
              "      <td>0.59</td>\n",
              "      <td>4.89</td>\n",
              "      <td>3.58</td>\n",
              "      <td>5.42</td>\n",
              "      <td>337689769.48</td>\n",
              "      <td>1518.94</td>\n",
              "      <td>9.38</td>\n",
              "      <td>21.26</td>\n",
              "      <td>0.00</td>\n",
              "      <td>1622.15</td>\n",
              "      <td>2.00</td>\n",
              "      <td>33.31</td>\n",
              "      <td>5.79</td>\n",
              "      <td>10.24</td>\n",
              "      <td>1.87</td>\n",
              "      <td>1.00</td>\n",
              "      <td>2.06</td>\n",
              "      <td>5.91</td>\n",
              "      <td>2.58</td>\n",
              "      <td>0.03</td>\n",
              "      <td>11817.73</td>\n",
              "      <td>19.71</td>\n",
              "    </tr>\n",
              "    <tr>\n",
              "      <th>std</th>\n",
              "      <td>5.00</td>\n",
              "      <td>0.28</td>\n",
              "      <td>41598.11</td>\n",
              "      <td>0.98</td>\n",
              "      <td>0.00</td>\n",
              "      <td>0.00</td>\n",
              "      <td>0.00</td>\n",
              "      <td>3.46</td>\n",
              "      <td>18.76</td>\n",
              "      <td>6.40</td>\n",
              "      <td>7.94</td>\n",
              "      <td>51026531.25</td>\n",
              "      <td>4126.34</td>\n",
              "      <td>6.46</td>\n",
              "      <td>15.21</td>\n",
              "      <td>0.00</td>\n",
              "      <td>975.18</td>\n",
              "      <td>0.00</td>\n",
              "      <td>24.55</td>\n",
              "      <td>8.49</td>\n",
              "      <td>5.90</td>\n",
              "      <td>0.38</td>\n",
              "      <td>0.04</td>\n",
              "      <td>0.24</td>\n",
              "      <td>0.41</td>\n",
              "      <td>0.80</td>\n",
              "      <td>2.31</td>\n",
              "      <td>6727.96</td>\n",
              "      <td>2.75</td>\n",
              "    </tr>\n",
              "    <tr>\n",
              "      <th>min</th>\n",
              "      <td>1.00</td>\n",
              "      <td>1.00</td>\n",
              "      <td>110002.00</td>\n",
              "      <td>1.00</td>\n",
              "      <td>0.00</td>\n",
              "      <td>0.00</td>\n",
              "      <td>0.00</td>\n",
              "      <td>0.00</td>\n",
              "      <td>0.00</td>\n",
              "      <td>0.00</td>\n",
              "      <td>0.00</td>\n",
              "      <td>201010143.00</td>\n",
              "      <td>0.00</td>\n",
              "      <td>0.00</td>\n",
              "      <td>11.00</td>\n",
              "      <td>0.00</td>\n",
              "      <td>1023.00</td>\n",
              "      <td>2.00</td>\n",
              "      <td>0.00</td>\n",
              "      <td>0.00</td>\n",
              "      <td>10.00</td>\n",
              "      <td>1.00</td>\n",
              "      <td>0.00</td>\n",
              "      <td>2.00</td>\n",
              "      <td>4.00</td>\n",
              "      <td>1.00</td>\n",
              "      <td>0.00</td>\n",
              "      <td>283.00</td>\n",
              "      <td>0.00</td>\n",
              "    </tr>\n",
              "    <tr>\n",
              "      <th>25%</th>\n",
              "      <td>2.00</td>\n",
              "      <td>1.00</td>\n",
              "      <td>530010.00</td>\n",
              "      <td>1.00</td>\n",
              "      <td>0.00</td>\n",
              "      <td>0.00</td>\n",
              "      <td>0.00</td>\n",
              "      <td>0.00</td>\n",
              "      <td>0.00</td>\n",
              "      <td>0.00</td>\n",
              "      <td>1.00</td>\n",
              "      <td>303070110.00</td>\n",
              "      <td>287.76</td>\n",
              "      <td>5.00</td>\n",
              "      <td>12.00</td>\n",
              "      <td>0.00</td>\n",
              "      <td>1023.00</td>\n",
              "      <td>2.00</td>\n",
              "      <td>11.00</td>\n",
              "      <td>2.00</td>\n",
              "      <td>10.00</td>\n",
              "      <td>2.00</td>\n",
              "      <td>1.00</td>\n",
              "      <td>2.00</td>\n",
              "      <td>6.00</td>\n",
              "      <td>3.00</td>\n",
              "      <td>0.00</td>\n",
              "      <td>5921.25</td>\n",
              "      <td>20.00</td>\n",
              "    </tr>\n",
              "    <tr>\n",
              "      <th>50%</th>\n",
              "      <td>3.00</td>\n",
              "      <td>1.00</td>\n",
              "      <td>530010.00</td>\n",
              "      <td>3.00</td>\n",
              "      <td>0.00</td>\n",
              "      <td>0.00</td>\n",
              "      <td>0.00</td>\n",
              "      <td>0.00</td>\n",
              "      <td>0.00</td>\n",
              "      <td>2.00</td>\n",
              "      <td>3.00</td>\n",
              "      <td>303170140.00</td>\n",
              "      <td>564.93</td>\n",
              "      <td>7.00</td>\n",
              "      <td>15.00</td>\n",
              "      <td>0.00</td>\n",
              "      <td>1023.00</td>\n",
              "      <td>2.00</td>\n",
              "      <td>30.00</td>\n",
              "      <td>3.00</td>\n",
              "      <td>10.00</td>\n",
              "      <td>2.00</td>\n",
              "      <td>1.00</td>\n",
              "      <td>2.00</td>\n",
              "      <td>6.00</td>\n",
              "      <td>3.00</td>\n",
              "      <td>0.00</td>\n",
              "      <td>11893.50</td>\n",
              "      <td>20.00</td>\n",
              "    </tr>\n",
              "    <tr>\n",
              "      <th>75%</th>\n",
              "      <td>7.00</td>\n",
              "      <td>1.00</td>\n",
              "      <td>530010.00</td>\n",
              "      <td>3.00</td>\n",
              "      <td>0.00</td>\n",
              "      <td>0.00</td>\n",
              "      <td>0.00</td>\n",
              "      <td>0.00</td>\n",
              "      <td>0.00</td>\n",
              "      <td>4.00</td>\n",
              "      <td>6.00</td>\n",
              "      <td>407020136.00</td>\n",
              "      <td>1019.93</td>\n",
              "      <td>15.00</td>\n",
              "      <td>26.00</td>\n",
              "      <td>0.00</td>\n",
              "      <td>3069.00</td>\n",
              "      <td>2.00</td>\n",
              "      <td>52.00</td>\n",
              "      <td>6.00</td>\n",
              "      <td>10.00</td>\n",
              "      <td>2.00</td>\n",
              "      <td>1.00</td>\n",
              "      <td>2.00</td>\n",
              "      <td>6.00</td>\n",
              "      <td>3.00</td>\n",
              "      <td>0.00</td>\n",
              "      <td>17724.75</td>\n",
              "      <td>20.00</td>\n",
              "    </tr>\n",
              "    <tr>\n",
              "      <th>max</th>\n",
              "      <td>87.00</td>\n",
              "      <td>5.00</td>\n",
              "      <td>530010.00</td>\n",
              "      <td>3.00</td>\n",
              "      <td>0.00</td>\n",
              "      <td>0.00</td>\n",
              "      <td>0.00</td>\n",
              "      <td>75.00</td>\n",
              "      <td>99.00</td>\n",
              "      <td>95.00</td>\n",
              "      <td>104.00</td>\n",
              "      <td>506020118.00</td>\n",
              "      <td>130211.83</td>\n",
              "      <td>20.00</td>\n",
              "      <td>64.00</td>\n",
              "      <td>0.00</td>\n",
              "      <td>3999.00</td>\n",
              "      <td>2.00</td>\n",
              "      <td>99.00</td>\n",
              "      <td>103.00</td>\n",
              "      <td>277.00</td>\n",
              "      <td>6.00</td>\n",
              "      <td>1.00</td>\n",
              "      <td>3.00</td>\n",
              "      <td>6.00</td>\n",
              "      <td>5.00</td>\n",
              "      <td>241.00</td>\n",
              "      <td>23373.00</td>\n",
              "      <td>25.00</td>\n",
              "    </tr>\n",
              "  </tbody>\n",
              "</table>\n",
              "</div>\n",
              "    <div class=\"colab-df-buttons\">\n",
              "\n",
              "  <div class=\"colab-df-container\">\n",
              "    <button class=\"colab-df-convert\" onclick=\"convertToInteractive('df-616af1bf-315d-4a16-9421-1012db070d28')\"\n",
              "            title=\"Convert this dataframe to an interactive table.\"\n",
              "            style=\"display:none;\">\n",
              "\n",
              "  <svg xmlns=\"http://www.w3.org/2000/svg\" height=\"24px\" viewBox=\"0 -960 960 960\">\n",
              "    <path d=\"M120-120v-720h720v720H120Zm60-500h600v-160H180v160Zm220 220h160v-160H400v160Zm0 220h160v-160H400v160ZM180-400h160v-160H180v160Zm440 0h160v-160H620v160ZM180-180h160v-160H180v160Zm440 0h160v-160H620v160Z\"/>\n",
              "  </svg>\n",
              "    </button>\n",
              "\n",
              "  <style>\n",
              "    .colab-df-container {\n",
              "      display:flex;\n",
              "      gap: 12px;\n",
              "    }\n",
              "\n",
              "    .colab-df-convert {\n",
              "      background-color: #E8F0FE;\n",
              "      border: none;\n",
              "      border-radius: 50%;\n",
              "      cursor: pointer;\n",
              "      display: none;\n",
              "      fill: #1967D2;\n",
              "      height: 32px;\n",
              "      padding: 0 0 0 0;\n",
              "      width: 32px;\n",
              "    }\n",
              "\n",
              "    .colab-df-convert:hover {\n",
              "      background-color: #E2EBFA;\n",
              "      box-shadow: 0px 1px 2px rgba(60, 64, 67, 0.3), 0px 1px 3px 1px rgba(60, 64, 67, 0.15);\n",
              "      fill: #174EA6;\n",
              "    }\n",
              "\n",
              "    .colab-df-buttons div {\n",
              "      margin-bottom: 4px;\n",
              "    }\n",
              "\n",
              "    [theme=dark] .colab-df-convert {\n",
              "      background-color: #3B4455;\n",
              "      fill: #D2E3FC;\n",
              "    }\n",
              "\n",
              "    [theme=dark] .colab-df-convert:hover {\n",
              "      background-color: #434B5C;\n",
              "      box-shadow: 0px 1px 3px 1px rgba(0, 0, 0, 0.15);\n",
              "      filter: drop-shadow(0px 1px 2px rgba(0, 0, 0, 0.3));\n",
              "      fill: #FFFFFF;\n",
              "    }\n",
              "  </style>\n",
              "\n",
              "    <script>\n",
              "      const buttonEl =\n",
              "        document.querySelector('#df-616af1bf-315d-4a16-9421-1012db070d28 button.colab-df-convert');\n",
              "      buttonEl.style.display =\n",
              "        google.colab.kernel.accessAllowed ? 'block' : 'none';\n",
              "\n",
              "      async function convertToInteractive(key) {\n",
              "        const element = document.querySelector('#df-616af1bf-315d-4a16-9421-1012db070d28');\n",
              "        const dataTable =\n",
              "          await google.colab.kernel.invokeFunction('convertToInteractive',\n",
              "                                                    [key], {});\n",
              "        if (!dataTable) return;\n",
              "\n",
              "        const docLinkHtml = 'Like what you see? Visit the ' +\n",
              "          '<a target=\"_blank\" href=https://colab.research.google.com/notebooks/data_table.ipynb>data table notebook</a>'\n",
              "          + ' to learn more about interactive tables.';\n",
              "        element.innerHTML = '';\n",
              "        dataTable['output_type'] = 'display_data';\n",
              "        await google.colab.output.renderOutput(dataTable, element);\n",
              "        const docLink = document.createElement('div');\n",
              "        docLink.innerHTML = docLinkHtml;\n",
              "        element.appendChild(docLink);\n",
              "      }\n",
              "    </script>\n",
              "  </div>\n",
              "\n",
              "\n",
              "<div id=\"df-4b77429e-67d5-425c-bf92-b7ba89ab4767\">\n",
              "  <button class=\"colab-df-quickchart\" onclick=\"quickchart('df-4b77429e-67d5-425c-bf92-b7ba89ab4767')\"\n",
              "            title=\"Suggest charts\"\n",
              "            style=\"display:none;\">\n",
              "\n",
              "<svg xmlns=\"http://www.w3.org/2000/svg\" height=\"24px\"viewBox=\"0 0 24 24\"\n",
              "     width=\"24px\">\n",
              "    <g>\n",
              "        <path d=\"M19 3H5c-1.1 0-2 .9-2 2v14c0 1.1.9 2 2 2h14c1.1 0 2-.9 2-2V5c0-1.1-.9-2-2-2zM9 17H7v-7h2v7zm4 0h-2V7h2v10zm4 0h-2v-4h2v4z\"/>\n",
              "    </g>\n",
              "</svg>\n",
              "  </button>\n",
              "\n",
              "<style>\n",
              "  .colab-df-quickchart {\n",
              "      --bg-color: #E8F0FE;\n",
              "      --fill-color: #1967D2;\n",
              "      --hover-bg-color: #E2EBFA;\n",
              "      --hover-fill-color: #174EA6;\n",
              "      --disabled-fill-color: #AAA;\n",
              "      --disabled-bg-color: #DDD;\n",
              "  }\n",
              "\n",
              "  [theme=dark] .colab-df-quickchart {\n",
              "      --bg-color: #3B4455;\n",
              "      --fill-color: #D2E3FC;\n",
              "      --hover-bg-color: #434B5C;\n",
              "      --hover-fill-color: #FFFFFF;\n",
              "      --disabled-bg-color: #3B4455;\n",
              "      --disabled-fill-color: #666;\n",
              "  }\n",
              "\n",
              "  .colab-df-quickchart {\n",
              "    background-color: var(--bg-color);\n",
              "    border: none;\n",
              "    border-radius: 50%;\n",
              "    cursor: pointer;\n",
              "    display: none;\n",
              "    fill: var(--fill-color);\n",
              "    height: 32px;\n",
              "    padding: 0;\n",
              "    width: 32px;\n",
              "  }\n",
              "\n",
              "  .colab-df-quickchart:hover {\n",
              "    background-color: var(--hover-bg-color);\n",
              "    box-shadow: 0 1px 2px rgba(60, 64, 67, 0.3), 0 1px 3px 1px rgba(60, 64, 67, 0.15);\n",
              "    fill: var(--button-hover-fill-color);\n",
              "  }\n",
              "\n",
              "  .colab-df-quickchart-complete:disabled,\n",
              "  .colab-df-quickchart-complete:disabled:hover {\n",
              "    background-color: var(--disabled-bg-color);\n",
              "    fill: var(--disabled-fill-color);\n",
              "    box-shadow: none;\n",
              "  }\n",
              "\n",
              "  .colab-df-spinner {\n",
              "    border: 2px solid var(--fill-color);\n",
              "    border-color: transparent;\n",
              "    border-bottom-color: var(--fill-color);\n",
              "    animation:\n",
              "      spin 1s steps(1) infinite;\n",
              "  }\n",
              "\n",
              "  @keyframes spin {\n",
              "    0% {\n",
              "      border-color: transparent;\n",
              "      border-bottom-color: var(--fill-color);\n",
              "      border-left-color: var(--fill-color);\n",
              "    }\n",
              "    20% {\n",
              "      border-color: transparent;\n",
              "      border-left-color: var(--fill-color);\n",
              "      border-top-color: var(--fill-color);\n",
              "    }\n",
              "    30% {\n",
              "      border-color: transparent;\n",
              "      border-left-color: var(--fill-color);\n",
              "      border-top-color: var(--fill-color);\n",
              "      border-right-color: var(--fill-color);\n",
              "    }\n",
              "    40% {\n",
              "      border-color: transparent;\n",
              "      border-right-color: var(--fill-color);\n",
              "      border-top-color: var(--fill-color);\n",
              "    }\n",
              "    60% {\n",
              "      border-color: transparent;\n",
              "      border-right-color: var(--fill-color);\n",
              "    }\n",
              "    80% {\n",
              "      border-color: transparent;\n",
              "      border-right-color: var(--fill-color);\n",
              "      border-bottom-color: var(--fill-color);\n",
              "    }\n",
              "    90% {\n",
              "      border-color: transparent;\n",
              "      border-bottom-color: var(--fill-color);\n",
              "    }\n",
              "  }\n",
              "</style>\n",
              "\n",
              "  <script>\n",
              "    async function quickchart(key) {\n",
              "      const quickchartButtonEl =\n",
              "        document.querySelector('#' + key + ' button');\n",
              "      quickchartButtonEl.disabled = true;  // To prevent multiple clicks.\n",
              "      quickchartButtonEl.classList.add('colab-df-spinner');\n",
              "      try {\n",
              "        const charts = await google.colab.kernel.invokeFunction(\n",
              "            'suggestCharts', [key], {});\n",
              "      } catch (error) {\n",
              "        console.error('Error during call to suggestCharts:', error);\n",
              "      }\n",
              "      quickchartButtonEl.classList.remove('colab-df-spinner');\n",
              "      quickchartButtonEl.classList.add('colab-df-quickchart-complete');\n",
              "    }\n",
              "    (() => {\n",
              "      let quickchartButtonEl =\n",
              "        document.querySelector('#df-4b77429e-67d5-425c-bf92-b7ba89ab4767 button');\n",
              "      quickchartButtonEl.style.display =\n",
              "        google.colab.kernel.accessAllowed ? 'block' : 'none';\n",
              "    })();\n",
              "  </script>\n",
              "</div>\n",
              "\n",
              "    </div>\n",
              "  </div>\n"
            ],
            "application/vnd.google.colaboratory.intrinsic+json": {
              "type": "dataframe"
            }
          },
          "metadata": {},
          "execution_count": 89
        }
      ]
    },
    {
      "cell_type": "code",
      "source": [
        "sih_sus_tratada = sih_sus.drop([\n",
        "    'CGC_HOSP',\n",
        "    'CNPJ_MANT',\n",
        "    'AUD_JUST',\n",
        "    'SIS_JUST',\n",
        "    'FAEC_TP',\n",
        "    'GESTOR_DT',\n",
        "    'INFEHOSP',\n",
        "    'CID_NOTIF',\n",
        "    'NUM_PROC',\n",
        "    'DIAG_PRINC',\n",
        "    'REMESSA',\n",
        "    'CEP',\n",
        "    'MUNIC_RES',\n",
        "    'NASC',\n",
        "    'DIAR_ACOM',\n",
        "    'SEXO',\n",
        "    #'PROC_SOLIC',\n",
        "    #'VAL_UTI',\n",
        "    #'VAL_SH',\n",
        "    'DT_INTER',\n",
        "    'DT_SAIDA',\n",
        "    'COBRANCA',\n",
        "    'RUBRICA',\n",
        "    'MUNIC_MOV',\n",
        "    'NACIONAL',\n",
        "    'CAR_INT',\n",
        "    'HOMONIMO',\n",
        "    'NUM_FILHOS',\n",
        "    'INSTRU',\n",
        "    'INSC_PN',\n",
        "    'SEQ_AIH5',\n",
        "    'CBOR',\n",
        "    'CNAER',\n",
        "    'VINCPREV',\n",
        "    'GESTOR_COD',\n",
        "    'GESTOR_TP',\n",
        "    'GESTOR_CPF',\n",
        "    'CNES',\n",
        "    'CID_ASSO',\n",
        "    'CID_MORTE',\n",
        "    'REGCT',\n",
        "    'SEQUENCIA',\n",
        "    'VAL_SH_FED',\n",
        "    'VAL_SP_FED',\n",
        "    'VAL_SH_GES',\n",
        "    'VAL_SP_GES',\n",
        "    'VAL_UCI',\n",
        "    'DIAS_PERM',\n",
        "    'US_TOT',\n",
        "    'MES_CMPT',\n",
        "    'ANO_CMPT',\n",
        "    'ESPEC',\n",
        "    'NATUREZA',\n",
        "    'NAT_JUR',\n",
        "    'COD_IDADE',\n",
        "   # 'DIAG_SECUN',\n",
        "    'RACA_COR',\n",
        "    'ETNIA',\n",
        "    'UF_ZI',\n",
        "    'MORTE',\n",
        "    'DIAGSEC1',\n",
        "    'DIAGSEC2',\n",
        "    'DIAGSEC3',\n",
        "    'DIAGSEC4',\n",
        "    'DIAGSEC5',\n",
        "    'DIAGSEC6',\n",
        "    'DIAGSEC7',\n",
        "    'DIAGSEC8',\n",
        "    'DIAGSEC9',\n",
        "    'TPDISEC1',\n",
        "    'CPF_AUT'], axis=1)\n"
      ],
      "metadata": {
        "id": "c23rzZBdrtxP",
        "colab": {
          "base_uri": "https://localhost:8080/",
          "height": 218
        },
        "outputId": "73800775-3254-4e90-90ec-d1799bfe0092"
      },
      "execution_count": 87,
      "outputs": [
        {
          "output_type": "error",
          "ename": "NameError",
          "evalue": "name 'sih_sus' is not defined",
          "traceback": [
            "\u001b[0;31m---------------------------------------------------------------------------\u001b[0m",
            "\u001b[0;31mNameError\u001b[0m                                 Traceback (most recent call last)",
            "\u001b[0;32m<ipython-input-87-aeffa6142374>\u001b[0m in \u001b[0;36m<cell line: 0>\u001b[0;34m()\u001b[0m\n\u001b[0;32m----> 1\u001b[0;31m sih_sus_tratada = sih_sus.drop([\n\u001b[0m\u001b[1;32m      2\u001b[0m     \u001b[0;34m'CGC_HOSP'\u001b[0m\u001b[0;34m,\u001b[0m\u001b[0;34m\u001b[0m\u001b[0;34m\u001b[0m\u001b[0m\n\u001b[1;32m      3\u001b[0m     \u001b[0;34m'CNPJ_MANT'\u001b[0m\u001b[0;34m,\u001b[0m\u001b[0;34m\u001b[0m\u001b[0;34m\u001b[0m\u001b[0m\n\u001b[1;32m      4\u001b[0m     \u001b[0;34m'AUD_JUST'\u001b[0m\u001b[0;34m,\u001b[0m\u001b[0;34m\u001b[0m\u001b[0;34m\u001b[0m\u001b[0m\n\u001b[1;32m      5\u001b[0m     \u001b[0;34m'SIS_JUST'\u001b[0m\u001b[0;34m,\u001b[0m\u001b[0;34m\u001b[0m\u001b[0;34m\u001b[0m\u001b[0m\n",
            "\u001b[0;31mNameError\u001b[0m: name 'sih_sus' is not defined"
          ]
        }
      ]
    },
    {
      "cell_type": "code",
      "source": [
        "sih_sus_tratada.isnull().sum()"
      ],
      "metadata": {
        "id": "AFfyJN2KXyQ2"
      },
      "execution_count": null,
      "outputs": []
    },
    {
      "cell_type": "code",
      "source": [
        "sih_sus_tratada.info()"
      ],
      "metadata": {
        "id": "q4bVN2Fkr3Dc"
      },
      "execution_count": null,
      "outputs": []
    },
    {
      "cell_type": "markdown",
      "source": [
        "### Todas as variáveis com valores nulos foram retiradas assim, como as variáveis categóricas."
      ],
      "metadata": {
        "id": "PsNXrlEyt93g"
      }
    },
    {
      "cell_type": "markdown",
      "source": [
        "## Inicio da EDA"
      ],
      "metadata": {
        "id": "1r44tApzs0OD"
      }
    },
    {
      "cell_type": "code",
      "source": [
        "import seaborn as sns\n",
        "\n",
        "plt.figure(figsize=(10, 6))\n",
        "plt.hist(sih_sus_tratada['IDADE'], bins=20, color='skyblue', edgecolor='black')\n",
        "plt.xlabel('Idade')\n",
        "plt.ylabel('Frequência')\n",
        "plt.title('Histograma da Idade')\n",
        "plt.show()\n",
        "\n",
        "plt.figure(figsize=(12, 10))\n",
        "\n",
        "correlation_matrix = sih_sus_tratada.corr()\n",
        "\n",
        "mask = np.triu(np.ones_like(correlation_matrix, dtype=bool))\n",
        "\n",
        "sns.heatmap(correlation_matrix, mask=mask, annot=True, cmap='coolwarm', fmt=\".2f\", linewidths=0.5)\n",
        "\n",
        "plt.title('Matriz de Correlação (Metade Superior)')\n",
        "plt.show()\n"
      ],
      "metadata": {
        "id": "2H0sDyfvsFs9"
      },
      "execution_count": null,
      "outputs": []
    },
    {
      "cell_type": "markdown",
      "source": [],
      "metadata": {
        "id": "AQLPvAMUdgoa"
      }
    },
    {
      "cell_type": "markdown",
      "source": [
        "### Início da modelagem de dados, testaremos os modelos de Regressão Linear, KNN com 5 e 10 vizinhos e Decision Tree"
      ],
      "metadata": {
        "id": "k_LJ-by1LPR3"
      }
    },
    {
      "cell_type": "markdown",
      "source": [
        "### Regressão Linear"
      ],
      "metadata": {
        "id": "q1Xhhg7pLipB"
      }
    },
    {
      "cell_type": "code",
      "source": [
        "from sklearn.linear_model import LinearRegression\n",
        "from sklearn.model_selection import train_test_split\n",
        "from sklearn.metrics import mean_squared_error, r2_score, mean_absolute_error"
      ],
      "metadata": {
        "id": "91R95vXEtMZw"
      },
      "execution_count": null,
      "outputs": []
    },
    {
      "cell_type": "code",
      "source": [
        "X = sih_sus_tratada.drop('VAL_TOT', axis=1)\n",
        "y = sih_sus_tratada['VAL_TOT']"
      ],
      "metadata": {
        "id": "3_UojS5wDoUI"
      },
      "execution_count": null,
      "outputs": []
    },
    {
      "cell_type": "code",
      "source": [
        "regressao_linear = LinearRegression()"
      ],
      "metadata": {
        "id": "xPyZVUIDEGuG"
      },
      "execution_count": null,
      "outputs": []
    },
    {
      "cell_type": "code",
      "source": [
        "X_train, X_test, y_train, y_test = train_test_split(X, y, test_size=0.2, random_state=42)"
      ],
      "metadata": {
        "id": "Nf_vS-WOELgV"
      },
      "execution_count": null,
      "outputs": []
    },
    {
      "cell_type": "code",
      "source": [
        "regressao_linear.fit(X_train, y_train)"
      ],
      "metadata": {
        "id": "vLXs1QCkERoz"
      },
      "execution_count": null,
      "outputs": []
    },
    {
      "cell_type": "code",
      "source": [
        "tabela_coef_rl = pd.DataFrame({'Variável': X.columns, 'Coeficiente': regressao_linear.coef_})"
      ],
      "metadata": {
        "id": "NlHA83-sETwf"
      },
      "execution_count": null,
      "outputs": []
    },
    {
      "cell_type": "code",
      "source": [
        "tabela_coef_rl"
      ],
      "metadata": {
        "id": "DI8lKjh-EVqm"
      },
      "execution_count": null,
      "outputs": []
    },
    {
      "cell_type": "code",
      "source": [
        "y_pred = regressao_linear.predict(X_test)"
      ],
      "metadata": {
        "id": "56n2I3g4Ef7u"
      },
      "execution_count": null,
      "outputs": []
    },
    {
      "cell_type": "code",
      "source": [
        "resultado = pd.DataFrame({'Valor Real': y_test, 'Valor Predito': y_pred})"
      ],
      "metadata": {
        "id": "IJvNXdwDEl5a"
      },
      "execution_count": null,
      "outputs": []
    },
    {
      "cell_type": "code",
      "source": [
        "resultado"
      ],
      "metadata": {
        "id": "tIV3fDgSEpa3"
      },
      "execution_count": null,
      "outputs": []
    },
    {
      "cell_type": "code",
      "source": [
        "r2 = r2_score(y_test, y_pred)\n",
        "print(f'R2 :{r2}')\n",
        "mse = mean_squared_error(y_test, y_pred)\n",
        "print(f'MSE: {mse}')\n",
        "mae = mean_absolute_error(y_test, y_pred)\n",
        "print(f'MAE: {mae}')"
      ],
      "metadata": {
        "id": "x8ADtzgnEqbk"
      },
      "execution_count": null,
      "outputs": []
    },
    {
      "cell_type": "markdown",
      "source": [
        "### O modelo mostrou conseguir explicar 0,68 (r2)"
      ],
      "metadata": {
        "id": "jtDEOC9RE-XI"
      }
    },
    {
      "cell_type": "markdown",
      "source": [
        "KNN"
      ],
      "metadata": {
        "id": "qY6HdpuoFQMo"
      }
    },
    {
      "cell_type": "code",
      "source": [
        "from sklearn.neighbors import KNeighborsRegressor"
      ],
      "metadata": {
        "id": "grsB_wmeEx1c"
      },
      "execution_count": null,
      "outputs": []
    },
    {
      "cell_type": "code",
      "source": [
        "knn5 = KNeighborsRegressor(n_neighbors=5)"
      ],
      "metadata": {
        "id": "tHJzYfnrFUI1"
      },
      "execution_count": null,
      "outputs": []
    },
    {
      "cell_type": "code",
      "source": [
        "knn5.fit(X_train, y_train)"
      ],
      "metadata": {
        "id": "_pSuzLs_FXOb"
      },
      "execution_count": null,
      "outputs": []
    },
    {
      "cell_type": "code",
      "source": [
        "knn5_pred = knn5.predict(X_test)"
      ],
      "metadata": {
        "id": "5UdsxzHvFY38"
      },
      "execution_count": null,
      "outputs": []
    },
    {
      "cell_type": "code",
      "source": [
        "knn5_resultado = pd.DataFrame({'Valor Real': y_test, 'Valor Predito': knn5_pred})"
      ],
      "metadata": {
        "id": "MXL_jJkhFbJn"
      },
      "execution_count": null,
      "outputs": []
    },
    {
      "cell_type": "code",
      "source": [
        "knn5_resultado"
      ],
      "metadata": {
        "id": "U703TLy8Fc9x"
      },
      "execution_count": null,
      "outputs": []
    },
    {
      "cell_type": "code",
      "source": [
        "knn5_r2 = r2_score(y_test, knn5_pred)\n",
        "print(f'R2 :{knn5_r2}')\n",
        "knn5_mse = mean_squared_error(y_test, knn5_pred)\n",
        "print(f'MSE: {knn5_mse}')\n",
        "knn5_mae = mean_absolute_error(y_test, knn5_pred)\n",
        "print(f'MAE: {knn5_mae}')"
      ],
      "metadata": {
        "id": "NGVTjlFTFec_"
      },
      "execution_count": null,
      "outputs": []
    },
    {
      "cell_type": "markdown",
      "source": [
        "## O resultado para o KNN foi bem pior que o resultado da regressão linear"
      ],
      "metadata": {
        "id": "mYFjsAjIFmcQ"
      }
    },
    {
      "cell_type": "code",
      "source": [
        "knn10 = KNeighborsRegressor(n_neighbors=10)"
      ],
      "metadata": {
        "id": "vfYDus-aFkjU"
      },
      "execution_count": null,
      "outputs": []
    },
    {
      "cell_type": "code",
      "source": [
        "knn10.fit(X_train, y_train)"
      ],
      "metadata": {
        "id": "E3IOJl_PFycS"
      },
      "execution_count": null,
      "outputs": []
    },
    {
      "cell_type": "code",
      "source": [
        "knn10_pred = knn10.predict(X_test)"
      ],
      "metadata": {
        "id": "41GC_CyEGZNC"
      },
      "execution_count": null,
      "outputs": []
    },
    {
      "cell_type": "code",
      "source": [
        "knn10_resultado = pd.DataFrame({'Valor Real': y_test, 'Valor Predito': knn10_pred})"
      ],
      "metadata": {
        "id": "bUECMA5XGbdK"
      },
      "execution_count": null,
      "outputs": []
    },
    {
      "cell_type": "code",
      "source": [
        "knn10_r2 = r2_score(y_test, knn10_pred)\n",
        "print(f'R2 :{knn10_r2}')\n",
        "knn10_mse = mean_squared_error(y_test, knn10_pred)\n",
        "print(f'MSE: {knn10_mse}')\n",
        "knn10_mae = mean_absolute_error(y_test, knn10_pred)\n",
        "print(f'MAE: {knn10_mae}')"
      ],
      "metadata": {
        "id": "Nk2oBoSxGezH"
      },
      "execution_count": null,
      "outputs": []
    },
    {
      "cell_type": "markdown",
      "source": [
        "## O resultado melhorou um pouco com 10 vizinhos, mas continua com uma performance abaixo da regressão linear"
      ],
      "metadata": {
        "id": "coyKzN1GGzaw"
      }
    },
    {
      "cell_type": "markdown",
      "source": [
        "### Árvore de decisão"
      ],
      "metadata": {
        "id": "kZnAfYYILoy4"
      }
    },
    {
      "cell_type": "code",
      "source": [
        "from sklearn.tree import DecisionTreeRegressor"
      ],
      "metadata": {
        "id": "RnFCDDAKGp4x"
      },
      "execution_count": null,
      "outputs": []
    },
    {
      "cell_type": "code",
      "source": [
        "dt = DecisionTreeRegressor(max_depth=10)"
      ],
      "metadata": {
        "id": "QaEz_6FWG5h2"
      },
      "execution_count": null,
      "outputs": []
    },
    {
      "cell_type": "code",
      "source": [
        "dt.fit(X_train, y_train)"
      ],
      "metadata": {
        "id": "hfocW_t8G9dP"
      },
      "execution_count": null,
      "outputs": []
    },
    {
      "cell_type": "code",
      "source": [
        "dt_pred = dt.predict(X_test)"
      ],
      "metadata": {
        "id": "GpVmDJyeG-5P"
      },
      "execution_count": null,
      "outputs": []
    },
    {
      "cell_type": "code",
      "source": [
        "dt_resultado = pd.DataFrame({'Valor Real': y_test, 'Valor Predito': dt_pred})"
      ],
      "metadata": {
        "id": "HTcKP5jrHAqv"
      },
      "execution_count": null,
      "outputs": []
    },
    {
      "cell_type": "code",
      "source": [
        "dt_resultado"
      ],
      "metadata": {
        "id": "TKTQtpEuHCO6"
      },
      "execution_count": null,
      "outputs": []
    },
    {
      "cell_type": "code",
      "source": [
        "dt_r2 = r2_score(y_test, dt_pred)\n",
        "print(f'R2 :{dt_r2}')\n",
        "dt_mse = mean_squared_error(y_test, dt_pred)\n",
        "print(f'MSE: {dt_mse}')\n",
        "dt_mae = mean_absolute_error(y_test, dt_pred)\n",
        "print(f'MAE: {dt_mae}')"
      ],
      "metadata": {
        "id": "hKyKbF6CHDs3"
      },
      "execution_count": null,
      "outputs": []
    },
    {
      "cell_type": "markdown",
      "source": [
        "## Dentre os três modelos de regressão o que apresentou melhor resultado foi a regressão linear"
      ],
      "metadata": {
        "id": "WC-2zzq3HUn4"
      }
    },
    {
      "cell_type": "code",
      "source": [],
      "metadata": {
        "id": "8LCIwRAcHSDW"
      },
      "execution_count": null,
      "outputs": []
    }
  ]
}